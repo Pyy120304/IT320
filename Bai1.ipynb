{
 "cells": [
  {
   "cell_type": "code",
   "execution_count": 1,
   "metadata": {},
   "outputs": [
    {
     "name": "stdout",
     "output_type": "stream",
     "text": [
      "tong:  3\n"
     ]
    }
   ],
   "source": [
    "# bai 1\n",
    "a = int(input(\"nhap so thu nhat\\n\"))\n",
    "b = int(input(\"nhap so thu hai\\n\"))\n",
    "print('tong: ', a+b)\n",
    "print('hieu:', a-b)\n",
    "print('tich:', a*b)\n",
    "print('thuong:', a/b)"
   ]
  },
  {
   "cell_type": "code",
   "execution_count": 7,
   "metadata": {},
   "outputs": [
    {
     "name": "stdout",
     "output_type": "stream",
     "text": [
      "chu vi hinh tron: 141.3\n",
      "dien tich hinh tron: 6358.500000000001\n"
     ]
    }
   ],
   "source": [
    "# bai 2\n",
    "def cal(i):\n",
    "    match i:\n",
    "        case 0:\n",
    "            a = int(input('nhap chieu rong\\n'))\n",
    "            b = int(input('nhap chieu dai\\n'))\n",
    "            print(\"chu vi HCN:\", (a+b)*2)\n",
    "            print(\"dien tich HCN:\", a*b)\n",
    "            return\n",
    "        case 1:\n",
    "            h = int(input('nhap chieu cao\\n'))\n",
    "            a = int(input('nhap do dai canh 1\\n'))\n",
    "            b = int(input('nhap do dai canh 2\\n'))\n",
    "            c = int(input('nhap do dai canh 3\\n'))\n",
    "            print('chu vi tam giac:',a+b+c)\n",
    "            print('dien tich tam giac:',1/2*a*h)\n",
    "            return\n",
    "        case 2:\n",
    "            r = int(input('nhap ban kinh\\n'))\n",
    "            print('chu vi hinh tron:', 3.14*r)\n",
    "            print('dien tich hinh tron:', 3.14*r*r)\n",
    "            return \n",
    "        case 3:\n",
    "            a = int(input('nhap do dai canh\\n'))\n",
    "            print('chu vi hinh vuong:', a*4)\n",
    "            print('dien tich hinh vuong:', a*a)\n",
    "            return\n",
    "        case 4:\n",
    "            a = int(input('chieu dai canh day 1\\n'))\n",
    "            b = int(input('chieu dai canh day 2\\n'))\n",
    "            h = int(input('nhap chieu cao\\n'))\n",
    "            c = int(input('nhap chieu dai canh ben 1\\n'))\n",
    "            d = int(input('nhap chieu dai canh ben 2\\n'))\n",
    "            print('chu vi hinh thang:',)\n",
    "            print('dien tich hinh thang:', (a+b)*h/2)\n",
    "            return\n",
    "        case default:\n",
    "            return \"invalid value\"\n",
    "        \n",
    "cal(int(input('nhap lua chon')))\n",
    "  "
   ]
  },
  {
   "cell_type": "code",
   "execution_count": 8,
   "metadata": {},
   "outputs": [
    {
     "name": "stdout",
     "output_type": "stream",
     "text": [
      "ban khong can nop thue\n"
     ]
    }
   ],
   "source": [
    "# bai 3\n",
    "luong = int(input('nhap luong nhan vien\\n'))\n",
    "if luong >=500:\n",
    "    print('thue la:', 20)\n",
    "else:\n",
    "    print('ban khong can nop thue')"
   ]
  },
  {
   "cell_type": "code",
   "execution_count": 9,
   "metadata": {},
   "outputs": [
    {
     "name": "stdout",
     "output_type": "stream",
     "text": [
      "tong luong: 63000.0\n",
      "\n",
      "luong truoc thue: 63000.0\n",
      "luong sau thue la: 56700.0\n"
     ]
    }
   ],
   "source": [
    "# bai 4\n",
    "h = int(input('nhap gio lam viec'))\n",
    "luong = int(input('nhap luong'))\n",
    "if h > 40:\n",
    "    tong = h*1.5*luong\n",
    "    print('tong luong:',tong)\n",
    "else:\n",
    "    tong = h*luong\n",
    "    print('tong luong:',tong)\n",
    "print('\\nluong truoc thue:', tong)\n",
    "print('luong sau thue la:', tong*0.9)"
   ]
  },
  {
   "cell_type": "code",
   "execution_count": 12,
   "metadata": {},
   "outputs": [
    {
     "name": "stdout",
     "output_type": "stream",
     "text": [
      "tien dien truoc khi tinh thue: 4500\n",
      "tien dien sau khi tinh thue: 4950.0\n"
     ]
    }
   ],
   "source": [
    "# bai 5\n",
    "so = int(input('nhap so dien\\n'))\n",
    "if so <= 100:\n",
    "    tong = so*450\n",
    "elif so <= 200:\n",
    "    tong = 100*450 + (so-100)*600\n",
    "elif so <= 300:\n",
    "    tong = 100*450 + 100*600 + (so-200)*750\n",
    "elif so <=500:\n",
    "    tong = 100*450 + 100*600 + 100*750 + (so-300)*900\n",
    "elif so <= 1000:\n",
    "    tong = 100*450 + 100*600 + 100*750 + 200*900 + (so-500)*1000\n",
    "else:\n",
    "    tong = 100*450 + 100*600 + 100*750 + 200*900 + 500*1000 + (so-1000)*1200\n",
    "print('tien dien truoc khi tinh thue:', tong)\n",
    "print('tien dien sau khi tinh thue:',tong*1.1)"
   ]
  },
  {
   "cell_type": "code",
   "execution_count": null,
   "metadata": {},
   "outputs": [],
   "source": []
  }
 ],
 "metadata": {
  "kernelspec": {
   "display_name": "Python 3",
   "language": "python",
   "name": "python3"
  },
  "language_info": {
   "codemirror_mode": {
    "name": "ipython",
    "version": 3
   },
   "file_extension": ".py",
   "mimetype": "text/x-python",
   "name": "python",
   "nbconvert_exporter": "python",
   "pygments_lexer": "ipython3",
   "version": "3.12.1"
  }
 },
 "nbformat": 4,
 "nbformat_minor": 2
}
